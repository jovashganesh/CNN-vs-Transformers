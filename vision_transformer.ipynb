{
 "cells": [
  {
   "cell_type": "code",
   "execution_count": 5,
   "metadata": {},
   "outputs": [],
   "source": [
    "# Imports\n",
    "import pandas as pd\n",
    "import numpy as np\n",
    "import tensorflow as tf\n",
    "import tensorflow_addons as tfa\n",
    "import glob, warnings\n",
    "import matplotlib.pyplot as plt\n",
    "from sklearn.metrics import confusion_matrix, classification_report, accuracy_score\n",
    "import seaborn as sns\n",
    "from collections import Counter\n",
    "from vit_keras import vit\n",
    "from vit_keras import visualize\n",
    "from sklearn.metrics import confusion_matrix, cohen_kappa_score\n",
    "import cv2\n",
    "\n"
   ]
  },
  {
   "cell_type": "code",
   "execution_count": 16,
   "metadata": {},
   "outputs": [],
   "source": [
    "# import datatset\n",
    "IMAGE_SIZE = 384\n",
    "BATCH_SIZE = 6\n",
    "EPOCHS = 100\n",
    "\n",
    "TRAIN_PATH = \"C:/Users/FYP/Documents/eyedata/400x400/train\"\n",
    "TEST_PATH = \"C:/Users/FYP/Documents/eyedata/400x400/test\"\n",
    "\n",
    "DF_TRAIN = pd.read_csv(\"C:/Users/FYP/Documents/eyedata/train.csv\", dtype='str')\n",
    "TEST_IMAGES = glob.glob(TEST_PATH + '/*.jpeg')\n",
    "DF_TEST = pd.DataFrame(TEST_IMAGES, columns = ['image_path'])"
   ]
  },
  {
   "cell_type": "code",
   "execution_count": 22,
   "metadata": {},
   "outputs": [],
   "source": [
    "# class weights\n",
    "weights = {0: 0.2721948519236092,\n",
    " 1: 2.8755555555555556,\n",
    " 2: 1.3275377969762419,\n",
    " 3: 8.047790507364976,\n",
    " 4: 9.913709677419355}"
   ]
  },
  {
   "cell_type": "code",
   "execution_count": null,
   "metadata": {},
   "outputs": [],
   "source": [
    "def preprocessing(img):\n",
    "    shape = img.shape[0]/2\n",
    "    x = img[int(shape)].sum(1)\n",
    "    radius=(x>x.mean()/10).sum()/2\n",
    "    final=IMAGE_SIZE*1.0/radius\n",
    "    img = cv2.resize(img,(0,0),fx=final,fy=final)\n",
    "    colour = cv2.addWeighted(img, 4, cv2.GaussianBlur(img,(0,0), IMAGE_SIZE/30), -4, 128)\n",
    "    colour = cv2.resize(colour, (IMAGE_SIZE,IMAGE_SIZE))\n",
    "    return colour"
   ]
  },
  {
   "cell_type": "code",
   "execution_count": 17,
   "metadata": {},
   "outputs": [
    {
     "name": "stdout",
     "output_type": "stream",
     "text": [
      "Found 24587 validated image filenames belonging to 5 classes.\n",
      "Found 10537 validated image filenames belonging to 5 classes.\n",
      "Found 53572 validated image filenames.\n"
     ]
    }
   ],
   "source": [
    "#importing images\n",
    "datagen = tf.keras.preprocessing.image.ImageDataGenerator(rescale = 1./255,\n",
    "                                                          validation_split = 0.3,\n",
    "                                                          preprocessing_function = preprocessing()\n",
    ")\n",
    "\n",
    "train_gen = datagen.flow_from_dataframe(dataframe = DF_TRAIN,\n",
    "                                        directory = TRAIN_PATH,\n",
    "                                        x_col = 'image_id',\n",
    "                                        y_col = 'label',\n",
    "                                        subset = 'training',\n",
    "                                        batch_size = BATCH_SIZE,\n",
    "                                        seed = 1,\n",
    "                                        color_mode = 'rgb',\n",
    "                                        shuffle = True,\n",
    "                                        class_mode = 'categorical',\n",
    "                                        target_size = (IMAGE_SIZE, IMAGE_SIZE))\n",
    "                                        \n",
    "valid_gen = datagen.flow_from_dataframe(dataframe = DF_TRAIN,\n",
    "                                        directory = TRAIN_PATH,\n",
    "                                        x_col = 'image_id',\n",
    "                                        y_col = 'label',\n",
    "                                        subset = 'validation',\n",
    "                                        batch_size = BATCH_SIZE,\n",
    "                                        seed = 1,\n",
    "                                        color_mode = 'rgb',\n",
    "                                        shuffle = False,\n",
    "                                        class_mode = 'categorical',\n",
    "                                        target_size = (IMAGE_SIZE, IMAGE_SIZE))\n",
    "\n",
    "test_gen = datagen.flow_from_dataframe(dataframe = DF_TEST,\n",
    "                                       x_col = 'image_path',\n",
    "                                       y_col = None,\n",
    "                                       batch_size = BATCH_SIZE,\n",
    "                                       seed = 1,\n",
    "                                       color_mode = 'rgb',\n",
    "                                       shuffle = False,\n",
    "                                       class_mode = None,\n",
    "                                       target_size = (IMAGE_SIZE, IMAGE_SIZE))\n"
   ]
  },
  {
   "cell_type": "code",
   "execution_count": 18,
   "metadata": {},
   "outputs": [],
   "source": [
    "# call the vit model\n",
    "vit_model = vit.vit_b16(\n",
    "        image_size = IMAGE_SIZE,\n",
    "        activation = 'softmax',\n",
    "        pretrained = True,\n",
    "        include_top = False,\n",
    "        pretrained_top = False,\n",
    "        classes = 5)"
   ]
  },
  {
   "cell_type": "code",
   "execution_count": 19,
   "metadata": {},
   "outputs": [],
   "source": [
    "# create the vit model\n",
    "model = tf.keras.Sequential([\n",
    "        vit_model,\n",
    "        tf.keras.layers.Flatten(),\n",
    "        tf.keras.layers.BatchNormalization(),\n",
    "        tf.keras.layers.Dense(11, activation = tfa.activations.gelu),\n",
    "        tf.keras.layers.BatchNormalization(),\n",
    "        tf.keras.layers.Dense(5, 'softmax')\n",
    "    ],\n",
    "    name = 'vision_transformer')"
   ]
  },
  {
   "cell_type": "code",
   "execution_count": null,
   "metadata": {},
   "outputs": [],
   "source": [
    "# define learning rate\n",
    "learning_rate = 1e-4\n",
    "\n",
    "#define optimiser\n",
    "optimizer = tfa.optimizers.RectifiedAdam(learning_rate = learning_rate)\n",
    "\n",
    "#compile model\n",
    "model.compile(optimizer = optimizer, \n",
    "              loss = tf.keras.losses.CategoricalCrossentropy(label_smoothing = 0.2), \n",
    "              metrics = ['accuracy'])\n",
    "\n",
    "STEP_SIZE_TRAIN = train_gen.n // train_gen.batch_size\n",
    "STEP_SIZE_VALID = valid_gen.n // valid_gen.batch_size\n",
    "\n",
    "#save model every iteration where accuracy increases\n",
    "checkpoint = tf.keras.callbacks.ModelCheckpoint(filepath='bestmodel.h5', monitor='val_accuracy', verbose=1, save_best_only=True, mode='auto', period=1)\n",
    "\n",
    "callbacks = [checkpoint]\n",
    "\n",
    "history = model.fit(x = train_gen,\n",
    "          steps_per_epoch = STEP_SIZE_TRAIN,\n",
    "          validation_data = valid_gen,\n",
    "          validation_steps = STEP_SIZE_VALID,\n",
    "          epochs = EPOCHS,\n",
    "          callbacks = callbacks\n",
    "        #   class_weight=weights\n",
    "        )\n",
    "\n",
    "# model.save('vit.h5')"
   ]
  },
  {
   "cell_type": "code",
   "execution_count": null,
   "metadata": {},
   "outputs": [],
   "source": [
    "# plotting accuracy and loss graphs for the model\n",
    "plt.plot(history.history[\"accuracy\"])\n",
    "plt.plot(history.history[\"val_accuracy\"])\n",
    "plt.title(\"Model Accuracy\")\n",
    "plt.ylabel(\"Accuracy\")\n",
    "plt.xlabel(\"Epoch\")\n",
    "plt.legend(['train', 'val'])\n",
    "plt.show()\n",
    "\n",
    "plt.plot(history.history['loss'])\n",
    "plt.plot(history.history['val_loss'])\n",
    "plt.title('Model Loss')\n",
    "plt.ylabel('Loss')\n",
    "plt.xlabel('Epoch')\n",
    "plt.legend(['train', 'val'])\n",
    "plt.show()"
   ]
  },
  {
   "cell_type": "code",
   "execution_count": null,
   "metadata": {},
   "outputs": [],
   "source": [
    "#provide the prediciton based on the vaidation set\n",
    "predicted_classes = np.argmax(model.predict(valid_gen, steps = valid_gen.n // valid_gen.batch_size + 1), axis = 1)\n",
    "true_classes = valid_gen.classes\n",
    "class_labels = list(valid_gen.class_indices.keys())  \n",
    "\n",
    "\n",
    "print(\"Accuracy on testing data: %2.2f%% \" % (accuracy_score(true_classes,predicted_classes)))\n",
    "print(classification_report(true_classes, predicted_classes))"
   ]
  },
  {
   "cell_type": "code",
   "execution_count": 14,
   "metadata": {},
   "outputs": [
    {
     "data": {
      "text/plain": [
       "Text(33.0, 0.5, 'Actual Label')"
      ]
     },
     "execution_count": 14,
     "metadata": {},
     "output_type": "execute_result"
    },
    {
     "data": {
      "image/png": "[encoded data removed]",
      "text/plain": [
       "<Figure size 432x288 with 1 Axes>"
      ]
     },
     "metadata": {
      "needs_background": "light"
     },
     "output_type": "display_data"
    }
   ],
   "source": [
    "# plot the confusion matrix\n",
    "confusion = sns.heatmap(confusion_matrix(true_classes,predicted_classes), annot=True, fmt='d', cbar=False, cmap=plt.cm.Blues)\n",
    "confusion.set_xlabel(\"Predicted Label\", fontsize = 10)\n",
    "confusion.set_ylabel(\"Actual Label\", fontsize = 10)"
   ]
  },
  {
   "cell_type": "code",
   "execution_count": 15,
   "metadata": {},
   "outputs": [
    {
     "data": {
      "text/plain": [
       "0.27860787414129884"
      ]
     },
     "execution_count": 15,
     "metadata": {},
     "output_type": "execute_result"
    }
   ],
   "source": [
    "# retreive the cohen's kappa score\n",
    "cohen_kappa_score(true_classes, predicted_classes)"
   ]
  }
 ],
 "metadata": {
  "interpreter": {
   "hash": "97241b3d2edc490f926053c4790a0e14d8170912950a2568cc38e2df4010464a"
  },
  "kernelspec": {
   "display_name": "Python 3.8.0 ('tf2.4')",
   "language": "python",
   "name": "python3"
  },
  "language_info": {
   "codemirror_mode": {
    "name": "ipython",
    "version": 3
   },
   "file_extension": ".py",
   "mimetype": "text/x-python",
   "name": "python",
   "nbconvert_exporter": "python",
   "pygments_lexer": "ipython3",
   "version": "3.8.0"
  },
  "orig_nbformat": 4
 },
 "nbformat": 4,
 "nbformat_minor": 2
}
