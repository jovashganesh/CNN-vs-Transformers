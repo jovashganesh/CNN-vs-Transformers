{
 "cells": [
  {
   "cell_type": "code",
   "execution_count": null,
   "metadata": {},
   "outputs": [],
   "source": [
    "#imports\n",
    "import numpy as np\n",
    "from PIL import Image\n",
    "import os\n",
    "import glob\n",
    "import tensorflow as tf\n",
    "from skimage.io import imread, imsave\n",
    "from skimage.transform import resize\n",
    "from sklearn.model_selection import train_test_split\n",
    "import re\n",
    "import pandas\n",
    "from PIL import Image\n",
    "from tensorflow import keras\n",
    "from matplotlib import pyplot as plt\n",
    "import matplotlib.pyplot as plt\n",
    "from sklearn.metrics import confusion_matrix, cohen_kappa_score\n",
    "from tensorflow.keras.callbacks import ModelCheckpoint, EarlyStopping\n",
    "from tensorflow.keras.layers import Conv2D\n",
    "from tensorflow.keras.utils import to_categorical\n",
    "from tensorflow.keras.preprocessing.image import ImageDataGenerator\n",
    "import pandas as pd\n",
    "from sklearn.preprocessing import StandardScaler\n",
    "import csv\n",
    "from tensorflow.keras.layers import Input \n",
    "from tensorflow.keras.layers import Dense \n",
    "from tensorflow.keras.models import Model\n",
    "from tensorflow.keras.models import load_model\n",
    "from PIL.Image import fromarray\n",
    "from sklearn.utils.class_weight import compute_class_weight, compute_sample_weight\n",
    "from sklearn.metrics import accuracy_score, classification_report\n",
    "from collections import Counter\n",
    "import seaborn as sns\n",
    "\n",
    "\n",
    "\n"
   ]
  },
  {
   "cell_type": "code",
   "execution_count": 4,
   "metadata": {},
   "outputs": [],
   "source": [
    "# retrieve y_train values from csv\n",
    "# retrieve the x_train file names\n",
    "files_ids = []\n",
    "y_trainn =[]\n",
    "\n",
    "prefix = r\"C:/Users/FYP/Documents/eyedata/\"\n",
    "with open('{}trainLabels.csv'.format(prefix)) as file:\n",
    "    reader = list(csv.reader(file, delimiter=','))\n",
    "    for row in reader:\n",
    "        files_ids.append(r\"C:/Users/FYP/Documents/eyedata/400x400/train/\" + row[0] + \".jpeg\")\n",
    "        y_trainn.append(row[1])\n",
    "files_ids = files_ids[1:]\n",
    "y_trainn = [int(i) for i in y_trainn[1:]]"
   ]
  },
  {
   "cell_type": "code",
   "execution_count": 5,
   "metadata": {},
   "outputs": [],
   "source": [
    "# retrieve all x_train images and append into array\n",
    "x_train = []\n",
    "\n",
    "x_train_ids = []\n",
    "def get_x_train_shrinked():\n",
    "    for x in files_ids:\n",
    "        x_train_ids.append(r\"C:/Users/FYP/Documents/eyedata/400x400/train/\" + os.path.basename(x))\n",
    "        image = Image.open(x)\n",
    "        x_train.append(np.asarray(image, dtype=np.uint8))\n"
   ]
  },
  {
   "cell_type": "code",
   "execution_count": 6,
   "metadata": {},
   "outputs": [],
   "source": [
    "get_x_train_shrinked()"
   ]
  },
  {
   "cell_type": "code",
   "execution_count": 7,
   "metadata": {},
   "outputs": [],
   "source": [
    "# x_train into numpy array\n",
    "x_train = np.array(x_train)\n"
   ]
  },
  {
   "cell_type": "code",
   "execution_count": 8,
   "metadata": {},
   "outputs": [],
   "source": [
    "# sort the y_train values corresponding to the x_train file name\n",
    "y_train = []\n",
    "for i in x_train_ids:\n",
    "    for j in range(len(files_ids)):\n",
    "        if i == files_ids[j]:\n",
    "            y_train.append(y_trainn[j])\n",
    "\n",
    "y_train = np.array(y_train)"
   ]
  },
  {
   "cell_type": "code",
   "execution_count": 9,
   "metadata": {},
   "outputs": [
    {
     "name": "stdout",
     "output_type": "stream",
     "text": [
      "Counter({0: 25808, 2: 5292, 1: 2443, 3: 873, 4: 708})\n"
     ]
    },
    {
     "data": {
      "text/plain": [
       "Text(0, 0.5, 'Class')"
      ]
     },
     "execution_count": 9,
     "metadata": {},
     "output_type": "execute_result"
    },
    {
     "data": {
      "image/png": "[encoded data removed]",
      "text/plain": [
       "<Figure size 432x288 with 1 Axes>"
      ]
     },
     "metadata": {
      "needs_background": "light"
     },
     "output_type": "display_data"
    }
   ],
   "source": [
    "print(Counter(y_train))\n",
    "w = Counter(y_train)\n",
    "plt.bar(w.keys(), w.values())\n",
    "plt.title('Data')\n",
    "plt.xlabel('Samples')\n",
    "plt.ylabel('Class')"
   ]
  },
  {
   "cell_type": "code",
   "execution_count": 10,
   "metadata": {},
   "outputs": [],
   "source": [
    "# x_train_test split at 30% with stratify\n",
    "X_train, X_val, y_train, y_val = train_test_split(x_train, y_train, test_size=0.3, stratify=y_train)\n"
   ]
  },
  {
   "cell_type": "code",
   "execution_count": 11,
   "metadata": {},
   "outputs": [],
   "source": [
    "# Undersampling\n",
    "import imblearn\n",
    "from imblearn.under_sampling import RandomUnderSampler\n",
    "from imblearn import under_sampling, over_sampling\n",
    "from imblearn.over_sampling import SMOTE\n",
    "\n",
    "\n",
    "oversample = SMOTE()\n",
    "\n",
    "\n",
    "undersample = RandomUnderSampler(sampling_strategy={0:5000},random_state=42)\n",
    "size = len(X_train)\n",
    "X_train = X_train.reshape(size, -1)\n",
    "X_train, y_train = undersample.fit_resample(X_train, y_train)\n",
    "X_train, y_train = oversample.fit_resample(X_train, y_train)\n",
    "X_train = X_train.reshape(-1,300,300,3)"
   ]
  },
  {
   "cell_type": "code",
   "execution_count": 40,
   "metadata": {},
   "outputs": [],
   "source": [
    "# class weights\n",
    "class_weights = compute_class_weight(class_weight='balanced', classes=np.unique(y_train), y=y_train)\n",
    "manual_weights = dict(enumerate(class_weights))"
   ]
  },
  {
   "cell_type": "code",
   "execution_count": 12,
   "metadata": {},
   "outputs": [
    {
     "name": "stdout",
     "output_type": "stream",
     "text": [
      "Record in training dataset: 25000\n",
      "Record in testing dataset: 7025\n",
      "Training dataset has 5000 records for the majority class and 20000 records for the minority class.\n"
     ]
    }
   ],
   "source": [
    "totalMaj = sorted(Counter(y_train).items())[0][1]\n",
    "totalMin = sorted(Counter(y_train).items())[1][1] + sorted(Counter(y_train).items())[2][1] + sorted(Counter(y_train).items())[3][1] + sorted(Counter(y_train).items())[4][1]\n",
    "\n",
    "print('Record in training dataset:', X_train.shape[0])\n",
    "print('Record in testing dataset:', X_val.shape[0])\n",
    "print(f\"Training dataset has {totalMaj} records for the majority class and {totalMin} records for the minority class.\")"
   ]
  },
  {
   "cell_type": "code",
   "execution_count": 16,
   "metadata": {},
   "outputs": [],
   "source": [
    "#python image generator\n",
    "train_datagen = ImageDataGenerator(\n",
    "    rescale=1./255\n",
    ")\n",
    "\n",
    "validation_datagen = ImageDataGenerator(\n",
    "    rescale=1./255\n",
    ")\n",
    "\n"
   ]
  },
  {
   "cell_type": "code",
   "execution_count": 17,
   "metadata": {},
   "outputs": [
    {
     "name": "stdout",
     "output_type": "stream",
     "text": [
      "Found 25000 images belonging to 5 classes.\n",
      "Found 7025 images belonging to 5 classes.\n",
      "Found 53576 images belonging to 1 classes.\n",
      "Found 7025 images belonging to 5 classes.\n"
     ]
    }
   ],
   "source": [
    "# Train generator for only training\n",
    "train_generator = validation_datagen.flow_from_directory(\n",
    "    directory=\"C:/Users/FYP/Documents/eyedata/dataflow/train/\",\n",
    "    target_size=(300,300),\n",
    "    batch_size=16,\n",
    "    class_mode='categorical',\n",
    "    shuffle=True,\n",
    "    seed=42\n",
    ")\n",
    "# Validation generator for validation data\n",
    "validation_generator = validation_datagen.flow_from_directory(\n",
    "    directory=\"C:/Users/FYP/Documents/eyedata/dataflow/validation/\",\n",
    "    target_size=(300,300),\n",
    "    batch_size=16,\n",
    "    class_mode='categorical',\n",
    "    shuffle=True,\n",
    "    seed=42)\n",
    "# Prediction data for the x_validation data\n",
    "validation2_generator = validation_datagen.flow_from_directory(\n",
    "    directory=\"C:/Users/FYP/Documents/eyedata/dataflow/validation/\",\n",
    "    target_size=(300,300),\n",
    "    batch_size=1,\n",
    "    class_mode=None,\n",
    "    shuffle=False)"
   ]
  },
  {
   "cell_type": "code",
   "execution_count": null,
   "metadata": {},
   "outputs": [],
   "source": [
    "# build the xception CNN model with 300x300 image size\n",
    "input_shape=(300, 300, 3)\n",
    "\n",
    "img_input = Input(shape=input_shape)\n",
    "base_model = tf.keras.applications.Xception(include_top=False, input_tensor=img_input, input_shape=input_shape, pooling=\"max\", weights='imagenet')\n",
    "\n",
    "#train on all the layers of the pre-trained model\n",
    "base_model.trainable = True\n",
    "x = base_model.output\n",
    "predictions = Dense(5, activation=\"softmax\", name=\"predictions\")(x)\n",
    "model = Model(inputs=img_input, outputs=predictions)\n",
    "\n",
    "# compile model\n",
    "model.compile(\n",
    "    loss=tf.keras.losses.categorical_crossentropy,\n",
    "    optimizer=tf.keras.optimizers.Adam(learning_rate=0.0001),\n",
    "    metrics=[\"accuracy\"]\n",
    ")\n",
    "\n",
    "# save model at every iteration where the accuracy increases\n",
    "checkpoint = ModelCheckpoint(filepath='bestmodel.h5', monitor='val_accuracy', verbose=1, save_best_only=True, mode='auto', period=1)\n",
    "\n",
    "\n",
    "\n",
    "history = model.fit_generator(generator=train_generator, validation_data=validation_generator,\n",
    "          epochs=15,\n",
    "          callbacks=[checkpoint]\n",
    "        #   class_weight=manual_weights\n",
    "        )"
   ]
  },
  {
   "cell_type": "code",
   "execution_count": null,
   "metadata": {},
   "outputs": [],
   "source": [
    "#print graphs for the accuracy and loss of model\n",
    "plt.plot(history.history[\"accuracy\"])\n",
    "plt.plot(history.history[\"val_accuracy\"])\n",
    "plt.title(\"Model Accuracy\")\n",
    "plt.ylabel(\"Accuracy\")\n",
    "plt.xlabel(\"Epoch\")\n",
    "plt.legend(['train', 'val'])\n",
    "plt.show()\n",
    "\n",
    "plt.plot(history.history['loss'])\n",
    "plt.plot(history.history['val_loss'])\n",
    "plt.title('Model Loss')\n",
    "plt.ylabel('Loss')\n",
    "plt.xlabel('Epoch')\n",
    "plt.legend(['train', 'val'])\n",
    "plt.show()"
   ]
  },
  {
   "cell_type": "code",
   "execution_count": null,
   "metadata": {},
   "outputs": [],
   "source": [
    "# validate model on the validation set\n",
    "STEP_SIZE_TEST=validation2_generator.n//validation2_generator.batch_size\n",
    "validation2_generator.reset()\n",
    "pred=model.predict_generator(validation2_generator,\n",
    "steps=STEP_SIZE_TEST,\n",
    "verbose=1)"
   ]
  },
  {
   "cell_type": "code",
   "execution_count": 28,
   "metadata": {},
   "outputs": [
    {
     "data": {
      "text/plain": [
       "Counter({0: 4868, 2: 1553, 1: 307, 4: 191, 3: 106})"
      ]
     },
     "execution_count": 28,
     "metadata": {},
     "output_type": "execute_result"
    }
   ],
   "source": [
    "# predicted values of all images on the validation set\n",
    "predicted_x_val=np.argmax(pred,axis=1)\n"
   ]
  },
  {
   "cell_type": "code",
   "execution_count": null,
   "metadata": {},
   "outputs": [],
   "source": [
    "# display the accuracy and the confusion matrix\n",
    "print(\"Accuracy on testing data: %2.2f%% \" % (accuracy_score(y_val,predicted_x_val)))\n",
    "print(classification_report(y_val,predicted_x_val))"
   ]
  },
  {
   "cell_type": "code",
   "execution_count": null,
   "metadata": {},
   "outputs": [],
   "source": [
    "import seaborn as sns\n",
    "\n",
    "confusion = sns.heatmap(confusion_matrix(y_val,predicted_x_val), annot=True, fmt='d', cbar=False, cmap=plt.cm.Blues)\n",
    "confusion.set_xlabel(\"Actual Label\", fontsize = 10)\n",
    "confusion.set_ylabel(\"Predicted Label\", fontsize = 10)"
   ]
  },
  {
   "cell_type": "code",
   "execution_count": null,
   "metadata": {},
   "outputs": [],
   "source": [
    "# retreive the cohen's kappa score\n",
    "cohen_kappa_score(predicted_x_val, y_val)"
   ]
  }
 ],
 "metadata": {
  "interpreter": {
   "hash": "39a5cb20e6aabec12210803d2966054fd1879e71cc76d312edcbeba71d02f2af"
  },
  "kernelspec": {
   "display_name": "Python 3.8.0 ('tf2.4')",
   "language": "python",
   "name": "python3"
  },
  "language_info": {
   "codemirror_mode": {
    "name": "ipython",
    "version": 3
   },
   "file_extension": ".py",
   "mimetype": "text/x-python",
   "name": "python",
   "nbconvert_exporter": "python",
   "pygments_lexer": "ipython3",
   "version": "3.8.0"
  },
  "orig_nbformat": 4
 },
 "nbformat": 4,
 "nbformat_minor": 2
}
